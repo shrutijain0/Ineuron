{
  "nbformat": 4,
  "nbformat_minor": 0,
  "metadata": {
    "colab": {
      "name": "ineuron py 4.ipynb",
      "provenance": [],
      "collapsed_sections": [],
      "authorship_tag": "ABX9TyNFyevfYFFq+mNNCNtYKH9g",
      "include_colab_link": true
    },
    "kernelspec": {
      "name": "python3",
      "display_name": "Python 3"
    },
    "language_info": {
      "name": "python"
    }
  },
  "cells": [
    {
      "cell_type": "markdown",
      "metadata": {
        "id": "view-in-github",
        "colab_type": "text"
      },
      "source": [
        "<a href=\"https://colab.research.google.com/github/shrutijain0/Ineuron/blob/main/ineuron_py_4.ipynb\" target=\"_parent\"><img src=\"https://colab.research.google.com/assets/colab-badge.svg\" alt=\"Open In Colab\"/></a>"
      ]
    },
    {
      "cell_type": "markdown",
      "metadata": {
        "id": "ipOn-oAYpSBu"
      },
      "source": [
        "Write a Python Program(with class concepts) to find the area of the triangle using the below\n",
        "formula.\n",
        "\n",
        "area = (s*(s-a)*(s-b)*(s-c)) ** 0.5\n",
        "\n",
        "Function to take the length of the sides of triangle from user should be defined in the parent class and function to calculate the area should be defined in subclass."
      ]
    },
    {
      "cell_type": "markdown",
      "metadata": {
        "id": "Ph19u7_hp3Og"
      },
      "source": [
        "s = (a+b+c)/2\n",
        "\n",
        "area = √(s(s-a)*(s-b)*(s-c))"
      ]
    },
    {
      "cell_type": "code",
      "metadata": {
        "id": "sWxUXugHohCW"
      },
      "source": [
        "class Triangle:\n",
        "  #Returns Area of Triangle\n",
        "  def __init__(self,a,b,c):\n",
        "    #take input value for sides of Triangle\n",
        "    self.a=a\n",
        "    self.b=b\n",
        "    self.c=c\n",
        "  def area(self):\n",
        "    #calculate the area of triangle\n",
        "    s=(self.a+self.b+self.c)/2\n",
        "    area=(s*(s-self.a)*(s-self.b)*(s-self.c)) ** 0.5\n",
        "    return \"The Area of Triangle:\",area\n"
      ],
      "execution_count": 2,
      "outputs": []
    },
    {
      "cell_type": "code",
      "metadata": {
        "id": "i0RvPwGErWkO"
      },
      "source": [
        "t=Triangle(4,5,6)"
      ],
      "execution_count": 3,
      "outputs": []
    },
    {
      "cell_type": "code",
      "metadata": {
        "colab": {
          "base_uri": "https://localhost:8080/"
        },
        "id": "siCxH45ZrkYf",
        "outputId": "6b1e6cf5-d715-4fc6-f45d-792badb69bab"
      },
      "source": [
        "t.area"
      ],
      "execution_count": 4,
      "outputs": [
        {
          "output_type": "execute_result",
          "data": {
            "text/plain": [
              "<bound method Triangle.area of <__main__.Triangle object at 0x7f5bf3d79610>>"
            ]
          },
          "metadata": {
            "tags": []
          },
          "execution_count": 4
        }
      ]
    },
    {
      "cell_type": "code",
      "metadata": {
        "colab": {
          "base_uri": "https://localhost:8080/"
        },
        "id": "0p7K2_9troQQ",
        "outputId": "6d3ac38e-5064-4a56-f306-8ee7e6a6715c"
      },
      "source": [
        "print(t.area())"
      ],
      "execution_count": 5,
      "outputs": [
        {
          "output_type": "stream",
          "text": [
            "('The Area of Triangle:', 9.921567416492215)\n"
          ],
          "name": "stdout"
        }
      ]
    },
    {
      "cell_type": "markdown",
      "metadata": {
        "id": "TVYiTHSLt7ps"
      },
      "source": [
        "Write a function filter_long_words() that takes a list of words and an integer n and returns\n",
        "the list of words that are longer than n."
      ]
    },
    {
      "cell_type": "code",
      "metadata": {
        "id": "sEOLPT1Ot_W6"
      },
      "source": [
        "def filter_long_words(l,n):\n",
        "  long=[]\n",
        "  for i in l:\n",
        "    if len(i)>n:\n",
        "      long.append(i)\n",
        "    else:\n",
        "      pass\n",
        "  return long\n",
        "\n"
      ],
      "execution_count": 6,
      "outputs": []
    },
    {
      "cell_type": "code",
      "metadata": {
        "id": "IoBI4jJNu8RF"
      },
      "source": [
        "li=['shruthi','ineuron','python','era','milin','sangeetha','cat','dog']"
      ],
      "execution_count": 7,
      "outputs": []
    },
    {
      "cell_type": "code",
      "metadata": {
        "colab": {
          "base_uri": "https://localhost:8080/"
        },
        "id": "-5uKnYaqu5R3",
        "outputId": "d55ef87d-bbfa-430a-aa2f-776295683be7"
      },
      "source": [
        "filter_long_words(li,5)"
      ],
      "execution_count": 8,
      "outputs": [
        {
          "output_type": "execute_result",
          "data": {
            "text/plain": [
              "['shruthi', 'ineuron', 'python', 'sangeetha']"
            ]
          },
          "metadata": {
            "tags": []
          },
          "execution_count": 8
        }
      ]
    },
    {
      "cell_type": "markdown",
      "metadata": {
        "id": "voDyHDgivgDe"
      },
      "source": [
        "Write a Python program using function concept that maps list of words into a list of integers\n",
        "\n",
        "representing the lengths of the corresponding words.\n",
        "\n",
        "Hint: If a list [ ab,cde,erty] is passed on to the python function output should come as [2,3,4]\n",
        "\n",
        "Here 2,3 and 4 are the lengths of the words in the list."
      ]
    },
    {
      "cell_type": "code",
      "metadata": {
        "id": "Wdrjj5JZ5ASM"
      },
      "source": [
        "a=['ab','cde','efgh','hijkl']"
      ],
      "execution_count": 52,
      "outputs": []
    },
    {
      "cell_type": "code",
      "metadata": {
        "colab": {
          "base_uri": "https://localhost:8080/"
        },
        "id": "xL3uwgxO5Dda",
        "outputId": "f3daa99e-2208-4c1c-e3d5-9218210b7858"
      },
      "source": [
        "list(map(len,a))"
      ],
      "execution_count": 54,
      "outputs": [
        {
          "output_type": "execute_result",
          "data": {
            "text/plain": [
              "[2, 3, 4, 5]"
            ]
          },
          "metadata": {
            "tags": []
          },
          "execution_count": 54
        }
      ]
    },
    {
      "cell_type": "markdown",
      "metadata": {
        "id": "abZZZw1K5LDT"
      },
      "source": [
        "Write a Python function which takes a character (i.e. a string of length 1) and returns True if it is a vowel, False otherwise."
      ]
    },
    {
      "cell_type": "code",
      "metadata": {
        "id": "70hgqTB85Ovh"
      },
      "source": [
        "def Vowel_checker(w):\n",
        "  v=['a','e','i','o','u']\n",
        "  b=w[0]\n",
        "  if b in v:\n",
        "    return True\n",
        "  else:\n",
        "    return False\n",
        "    "
      ],
      "execution_count": 63,
      "outputs": []
    },
    {
      "cell_type": "code",
      "metadata": {
        "colab": {
          "base_uri": "https://localhost:8080/"
        },
        "id": "HGJjiXH254Un",
        "outputId": "59f0c234-c2ce-4b77-a321-32672c7e69f9"
      },
      "source": [
        "Vowel_checker('a')"
      ],
      "execution_count": 66,
      "outputs": [
        {
          "output_type": "execute_result",
          "data": {
            "text/plain": [
              "True"
            ]
          },
          "metadata": {
            "tags": []
          },
          "execution_count": 66
        }
      ]
    },
    {
      "cell_type": "code",
      "metadata": {
        "colab": {
          "base_uri": "https://localhost:8080/"
        },
        "id": "o4n7tRdG6cSh",
        "outputId": "ffaaf5f1-6c47-402c-8b96-81e7d4d6239e"
      },
      "source": [
        "Vowel_checker('h')"
      ],
      "execution_count": 67,
      "outputs": [
        {
          "output_type": "execute_result",
          "data": {
            "text/plain": [
              "False"
            ]
          },
          "metadata": {
            "tags": []
          },
          "execution_count": 67
        }
      ]
    }
  ]
}