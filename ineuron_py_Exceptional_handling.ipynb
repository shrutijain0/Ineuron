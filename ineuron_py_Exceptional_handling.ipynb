{
  "nbformat": 4,
  "nbformat_minor": 0,
  "metadata": {
    "colab": {
      "name": "ineuron py Exceptional handling.ipynb",
      "provenance": [],
      "collapsed_sections": [],
      "authorship_tag": "ABX9TyP6DyUTut9ca0zduxtP9886",
      "include_colab_link": true
    },
    "kernelspec": {
      "name": "python3",
      "display_name": "Python 3"
    },
    "language_info": {
      "name": "python"
    }
  },
  "cells": [
    {
      "cell_type": "markdown",
      "metadata": {
        "id": "view-in-github",
        "colab_type": "text"
      },
      "source": [
        "<a href=\"https://colab.research.google.com/github/shrutijain0/Ineuron/blob/main/ineuron_py_Exceptional_handling.ipynb\" target=\"_parent\"><img src=\"https://colab.research.google.com/assets/colab-badge.svg\" alt=\"Open In Colab\"/></a>"
      ]
    },
    {
      "cell_type": "markdown",
      "metadata": {
        "id": "oRbwOk4J-8AN"
      },
      "source": [
        "Write a function to compute 5/0 and use try/except to catch the exceptions."
      ]
    },
    {
      "cell_type": "code",
      "metadata": {
        "id": "7EDp06wt-UgV"
      },
      "source": [
        "def div():\n",
        "  try: \n",
        "    5/0\n",
        "  except:\n",
        "    print(\" ZeroDivisionError : Divsion by Zero\")\n"
      ],
      "execution_count": 5,
      "outputs": []
    },
    {
      "cell_type": "code",
      "metadata": {
        "colab": {
          "base_uri": "https://localhost:8080/"
        },
        "id": "SPf359sx_kjt",
        "outputId": "82c4d34f-5ecd-49b2-f1bf-a58f961e3e2b"
      },
      "source": [
        "div()"
      ],
      "execution_count": 6,
      "outputs": [
        {
          "output_type": "stream",
          "text": [
            " ZeroDivisionError : Divsion by Zero\n"
          ],
          "name": "stdout"
        }
      ]
    },
    {
      "cell_type": "markdown",
      "metadata": {
        "id": "yZ7d32SE_6HO"
      },
      "source": [
        "Implement a Python program to generate all sentences where subject is in\n",
        "[\"Americans\", \"Indians\"] and verb is in [\"Play\", \"watch\"] and the object is in [\"Baseball\",\"cricket\"]."
      ]
    },
    {
      "cell_type": "markdown",
      "metadata": {
        "id": "aZ2Ci2EEBiWx"
      },
      "source": [
        "subjects=[\"Americans \",\"Indians\"]\n",
        "\n",
        "verbs=[\"play\",\"watch\"]\n",
        "\n",
        "objects=[\"Baseball\",\"Cricket\"]\n",
        "\n",
        "Output should come as below:\n",
        "\n",
        "Americans play Baseball.\n",
        "\n",
        "Americans play Cricket.\n",
        "\n",
        "Americans watch Baseball.\n",
        "\n",
        "Americans watch Cricket.\n",
        "\n",
        "Indians play Baseball.\n",
        "\n",
        "Indians play Cricket.\n",
        "\n",
        "Indians watch Baseball.\n",
        "\n",
        "Indians watch Cricket."
      ]
    },
    {
      "cell_type": "code",
      "metadata": {
        "id": "WDVlDhGy_9Bl"
      },
      "source": [
        "subject=[\"Americans\", \"Indians\"] \n",
        "verb=[\"Play\", \"watch\"]\n",
        "objec=[\"Baseball\",\"cricket\"]"
      ],
      "execution_count": 12,
      "outputs": []
    },
    {
      "cell_type": "code",
      "metadata": {
        "id": "HpAbhihkAfuo"
      },
      "source": [
        "format = [(Sub+' '+vrb+' '+Objct+\".\") for Sub in subject for vrb in verb for Objct in objec]"
      ],
      "execution_count": 15,
      "outputs": []
    },
    {
      "cell_type": "code",
      "metadata": {
        "colab": {
          "base_uri": "https://localhost:8080/"
        },
        "id": "SLcGyxweBV-N",
        "outputId": "d9afac45-ac93-4b66-e467-df7eb1e2b211"
      },
      "source": [
        "for i in format:\n",
        "  print(i)"
      ],
      "execution_count": 16,
      "outputs": [
        {
          "output_type": "stream",
          "text": [
            "Americans Play Baseball.\n",
            "Americans Play cricket.\n",
            "Americans watch Baseball.\n",
            "Americans watch cricket.\n",
            "Indians Play Baseball.\n",
            "Indians Play cricket.\n",
            "Indians watch Baseball.\n",
            "Indians watch cricket.\n"
          ],
          "name": "stdout"
        }
      ]
    }
  ]
}